{
 "cells": [
  {
   "cell_type": "code",
   "execution_count": 167,
   "metadata": {
    "collapsed": true,
    "deletable": true,
    "editable": true
   },
   "outputs": [],
   "source": [
    "import glob\n",
    "import matplotlib.pyplot as plt\n",
    "import matplotlib.figure as fg\n",
    "import numpy as np\n",
    "import matplotlib.patches as patches"
   ]
  },
  {
   "cell_type": "markdown",
   "metadata": {
    "deletable": true,
    "editable": true
   },
   "source": [
    "## Generate Custom Pattern Info"
   ]
  },
  {
   "cell_type": "code",
   "execution_count": 168,
   "metadata": {
    "collapsed": true,
    "deletable": true,
    "editable": true
   },
   "outputs": [],
   "source": [
    "xlen = 68.04\n",
    "ylen = 136.08\n",
    "finger_size = 12"
   ]
  },
  {
   "cell_type": "markdown",
   "metadata": {
    "deletable": true,
    "editable": true
   },
   "source": [
    "#### 1. CSOT_LIN_5Rx5C\n",
    "![](https://github.com/coanrd/Parade2017/blob/master/CSOT_LIN_5Rx5C.PNG?raw=true)"
   ]
  },
  {
   "cell_type": "code",
   "execution_count": 169,
   "metadata": {
    "collapsed": false,
    "deletable": true,
    "editable": true
   },
   "outputs": [],
   "source": [
    "row = 5\n",
    "col = 5\n",
    "x_del = (xlen-finger_size)/(col-1)\n",
    "y_del = (ylen-finger_size)/(row-1)\n",
    "\n",
    "#row,left-right,bottom-top\n",
    "pattern_line = []\n",
    "for row_idx in range(row):\n",
    "    x_start = finger_size/2.0\n",
    "    y_start = finger_size/2.0 + row_idx * y_del\n",
    "    x_end = xlen - finger_size/2.0\n",
    "    y_end = finger_size/2.0 + row_idx * y_del\n",
    "    pattern_line.append(','.join([str(x_start),str(y_start),str(x_end),str(y_end)]))\n",
    "\n",
    "#col,bottom-top,left-right    \n",
    "for col_idx in range(col):\n",
    "    x_start = finger_size/2.0 + col_idx * x_del\n",
    "    y_start = finger_size/2.0\n",
    "    x_end = finger_size/2.0 + col_idx * x_del\n",
    "    y_end = ylen - finger_size/2.0\n",
    "    pattern_line.append(','.join([str(x_start),str(y_start),str(x_end),str(y_end)]))\n",
    "\n",
    "#write to pattern file\n",
    "with open(\"csot_lin_\"+str(finger_size)+\"mmF_5Rx5C.txt\", \"w\") as patternfile:\n",
    "    for eachline in pattern_line:\n",
    "        patternfile.write(eachline+'\\n')"
   ]
  },
  {
   "cell_type": "markdown",
   "metadata": {},
   "source": [
    "#### 2. CSOT_LIN_Diamond\n",
    "![](https://github.com/coanrd/Parade2017/blob/master/CSOT_LIN_diamond.PNG?raw=true)"
   ]
  },
  {
   "cell_type": "code",
   "execution_count": 170,
   "metadata": {
    "collapsed": true
   },
   "outputs": [],
   "source": [
    "diag_num = 5 # total number of the diagonals\n",
    "x_del = (xlen-finger_size)/((diag_num+1)/2)\n",
    "y_del = (ylen-finger_size)/((diag_num+1)/2)\n",
    "\n",
    "\n",
    "pattern_line = []\n",
    "#1. positive\n",
    "#1 0 0\n",
    "#0 1 0\n",
    "#0 0 1\n",
    "for idx in range(diag_num):\n",
    "    if idx < (diag_num+1)/2:\n",
    "        x_start = finger_size/2.0 + x_del*(idx+1)\n",
    "        y_start = finger_size/2.0\n",
    "        x_end = finger_size/2.0\n",
    "        y_end = finger_size/2.0 + y_del*(idx+1)\n",
    "        pattern_line.append(','.join([str(x_start),str(y_start),str(x_end),str(y_end)]))\n",
    "    else:\n",
    "        x_start = xlen - finger_size/2.0\n",
    "        y_start = finger_size/2.0 + y_del*(idx + 1 -(diag_num+1)/2)\n",
    "        x_end = finger_size/2.0 + x_del*(idx + 1 -(diag_num+1)/2)\n",
    "        y_end = ylen - finger_size/2.0\n",
    "        pattern_line.append(','.join([str(x_start),str(y_start),str(x_end),str(y_end)]))\n",
    "\n",
    "#2. Negative\n",
    "#0 0 1\n",
    "#0 1 0\n",
    "#1 0 0\n",
    "for idx in range(diag_num):\n",
    "    if idx < (diag_num+1)/2:\n",
    "        x_start = finger_size/2.0\n",
    "        y_start = y_len - finger_size/2.0 - y_del*(idx+1)\n",
    "        x_end = finger_size/2.0 + x_del*(idx+1)\n",
    "        y_end = y_len - finger_size/2.0\n",
    "        pattern_line.append(','.join([str(x_start),str(y_start),str(x_end),str(y_end)]))\n",
    "    else:\n",
    "        x_start = finger_size/2.0 + x_del*(idx + 1 - (diag_num+1)/2)\n",
    "        y_start = finger_size/2.0\n",
    "        x_end = xlen - finger_size/2.0\n",
    "        y_end = ylen - finger_size/2.0 - y_del*(idx + 1 - (diag_num+1)/2)\n",
    "        pattern_line.append(','.join([str(x_start),str(y_start),str(x_end),str(y_end)]))   \n",
    "\n",
    "\n",
    "    \n",
    "#write to pattern file\n",
    "with open(\"csot_lin_\"+str(finger_size)+\"mmF_diamond.txt\", \"w\") as patternfile:\n",
    "    for eachline in pattern_line:\n",
    "        patternfile.write(eachline+'\\n')"
   ]
  },
  {
   "cell_type": "markdown",
   "metadata": {},
   "source": [
    "#### 3. CSOT_LIN_Star\n",
    "![](https://github.com/coanrd/Parade2017/blob/master/CSOT_LIN_star.PNG?raw=true)"
   ]
  },
  {
   "cell_type": "code",
   "execution_count": 171,
   "metadata": {
    "collapsed": true
   },
   "outputs": [],
   "source": [
    "row = 3\n",
    "col = 3\n",
    "x_del = (xlen-finger_size)/(col-1)\n",
    "y_del = (ylen-finger_size)/(row-1)\n",
    "\n",
    "pattern_line = []\n",
    "#1. 3Rx3C\n",
    "#row,left-right,bottom-top\n",
    "for row_idx in range(row):\n",
    "    x_start = finger_size/2.0\n",
    "    y_start = finger_size/2.0 + row_idx * y_del\n",
    "    x_end = xlen - finger_size/2.0\n",
    "    y_end = finger_size/2.0 + row_idx * y_del\n",
    "    pattern_line.append(','.join([str(x_start),str(y_start),str(x_end),str(y_end)]))\n",
    "\n",
    "#col,bottom-top,left-right    \n",
    "for col_idx in range(col):\n",
    "    x_start = finger_size/2.0 + col_idx * x_del\n",
    "    y_start = finger_size/2.0\n",
    "    x_end = finger_size/2.0 + col_idx * x_del\n",
    "    y_end = ylen - finger_size/2.0\n",
    "    pattern_line.append(','.join([str(x_start),str(y_start),str(x_end),str(y_end)]))\n",
    "\n",
    "#2. Cross\n",
    "x0 = finger_size/2.0\n",
    "y0 = finger_size/2.0\n",
    "x1 = xlen - finger_size/2.0\n",
    "y1 = finger_size/2.0\n",
    "x2 = xlen - finger_size/2.0\n",
    "y2 = ylen - finger_size/2.0\n",
    "x3 = finger_size/2.0\n",
    "y3 = ylen - finger_size/2.0\n",
    "\n",
    "pattern_line.append(','.join([str(x0),str(y0),str(x2),str(y2)]))\n",
    "pattern_line.append(','.join([str(x1),str(y1),str(x3),str(y3)]))\n",
    "\n",
    "    \n",
    "#write to pattern file\n",
    "with open(\"csot_lin_\"+str(finger_size)+\"mmF_star.txt\", \"w\") as patternfile:\n",
    "    for eachline in pattern_line:\n",
    "        patternfile.write(eachline+'\\n')"
   ]
  },
  {
   "cell_type": "markdown",
   "metadata": {},
   "source": [
    "#### 4. CSOT_ACC_5x5\n",
    "![](https://github.com/coanrd/Parade2017/blob/master/CSOT_ACC_5x5.PNG?raw=true)"
   ]
  },
  {
   "cell_type": "code",
   "execution_count": 172,
   "metadata": {
    "collapsed": true
   },
   "outputs": [],
   "source": [
    "row = 5\n",
    "col = 5\n",
    "x_del = (xlen-finger_size)/(col-1)\n",
    "y_del = (ylen-finger_size)/(row-1)\n",
    "\n",
    "#left-right,bottom-top\n",
    "pattern_dot = []\n",
    "for row_idx in range(row):\n",
    "    for col_idx in range(col):\n",
    "        x = finger_size/2.0 + x_del*col_idx \n",
    "        y = finger_size/2.0 + y_del*row_idx\n",
    "        pattern_dot.append(','.join([str(x),str(y)]))\n",
    "\n",
    "\n",
    "\n",
    "#write to pattern file\n",
    "with open(\"csot_acc_\"+str(finger_size)+\"mmF_5x5.txt\", \"w\") as patternfile:\n",
    "    for eachline in pattern_dot:\n",
    "        patternfile.write(eachline+'\\n')"
   ]
  },
  {
   "cell_type": "markdown",
   "metadata": {},
   "source": [
    "## -----------------------------------------------------------------------------------------------------------------------------------"
   ]
  },
  {
   "cell_type": "markdown",
   "metadata": {},
   "source": [
    "## Pattern Verification"
   ]
  },
  {
   "cell_type": "code",
   "execution_count": 173,
   "metadata": {
    "collapsed": false,
    "deletable": true,
    "editable": true
   },
   "outputs": [],
   "source": [
    "x_len = 68.04\n",
    "y_len = 136.08\n",
    "pattern_file = []\n",
    "\n",
    "for pattern in glob.glob('*.txt'):\n",
    "    pattern_file.append(pattern)"
   ]
  },
  {
   "cell_type": "code",
   "execution_count": 174,
   "metadata": {
    "collapsed": false,
    "deletable": true,
    "editable": true
   },
   "outputs": [
    {
     "data": {
      "text/plain": [
       "['csot_acc_12mmF_5x5.txt',\n",
       " 'csot_lin_12mmF_5Rx5C.txt',\n",
       " 'csot_lin_12mmF_diamond.txt',\n",
       " 'csot_lin_12mmF_star.txt']"
      ]
     },
     "execution_count": 174,
     "metadata": {},
     "output_type": "execute_result"
    }
   ],
   "source": [
    "pattern_file"
   ]
  },
  {
   "cell_type": "code",
   "execution_count": 175,
   "metadata": {
    "collapsed": false,
    "deletable": true,
    "editable": true
   },
   "outputs": [
    {
     "data": {
      "image/png": "[encoded data removed]",
      "text/plain": [
       "<matplotlib.figure.Figure at 0x9bdfc70>"
      ]
     },
     "metadata": {},
     "output_type": "display_data"
    },
    {
     "data": {
      "image/png": "[encoded data removed]",
      "text/plain": [
       "<matplotlib.figure.Figure at 0x87675d0>"
      ]
     },
     "metadata": {},
     "output_type": "display_data"
    },
    {
     "data": {
      "image/png": "[encoded data removed]",
      "text/plain": [
       "<matplotlib.figure.Figure at 0x8400310>"
      ]
     },
     "metadata": {},
     "output_type": "display_data"
    },
    {
     "data": {
      "image/png": "[encoded data removed]",
      "text/plain": [
       "<matplotlib.figure.Figure at 0x9527ab0>"
      ]
     },
     "metadata": {},
     "output_type": "display_data"
    }
   ],
   "source": [
    "for idx,pattern in enumerate(pattern_file):\n",
    "    if 'lin' in pattern:\n",
    "        with open(pattern) as f:\n",
    "            for line in f:\n",
    "#                 print line\n",
    "                x = []\n",
    "                y = []\n",
    "                x.append(float(line.split(',')[0]))\n",
    "                x.append(float(line.split(',')[2]))\n",
    "                y.append(float(line.split(',')[1]))\n",
    "                y.append(float(line.split(',')[3]))\n",
    "                plt.plot(x,y,'b',linewidth = 0.8)\n",
    "            plt.gca().add_patch(patches.Rectangle((0, 0),xlen,ylen,fill=False,linewidth = 0.8)) #draw the panel\n",
    "            plt.gca().add_patch(patches.Circle((finger_size/2.0, finger_size/2.0),finger_size/2.0,fill=False,linewidth = 0.8)) #draw the finger\n",
    "            plt.gca().set_xlim(-5,xlen+5)\n",
    "            plt.axis('off') #hide the axis\n",
    "            plt.gca().set_aspect('equal', adjustable='box')\n",
    "            plt.savefig(str(idx)+'.png',dpi = 1000)\n",
    "            plt.show()\n",
    "            plt.close()\n",
    "        \n",
    "    if 'acc' in pattern:\n",
    "        with open(pattern) as f:\n",
    "            for line in f:\n",
    "                x = []\n",
    "                y = []\n",
    "                x.append(float(line.split(',')[0]))\n",
    "                y.append(float(line.split(',')[1]))\n",
    "                plt.plot(x,y,c='b',marker = '+')\n",
    "            plt.gca().add_patch(patches.Rectangle((0, 0),xlen,ylen,fill=False,linewidth = 0.8)) #draw the panel\n",
    "            plt.gca().add_patch(patches.Circle((finger_size/2.0, finger_size/2.0),finger_size/2.0,fill=False,linewidth = 0.8)) #draw the finger\n",
    "            plt.gca().set_xlim(-5,xlen+5)\n",
    "            plt.axis('off') #hide the axis\n",
    "            plt.gca().set_aspect('equal', adjustable='box')\n",
    "            plt.savefig(str(idx)+'.png',dpi = 1000)\n",
    "            plt.show()\n",
    "            plt.close()\n",
    "    \n",
    "    \n",
    "        "
   ]
  },
  {
   "cell_type": "code",
   "execution_count": 147,
   "metadata": {
    "collapsed": false
   },
   "outputs": [
    {
     "data": {
      "image/png": "[encoded data removed]",
      "text/plain": [
       "<matplotlib.figure.Figure at 0x8c68ad0>"
      ]
     },
     "metadata": {},
     "output_type": "display_data"
    }
   ],
   "source": [
    "for idx,pattern in enumerate(pattern_file):\n",
    "    with open(pattern) as f:\n",
    "        for line in f:\n",
    "#                 print line\n",
    "            x = []\n",
    "            y = []\n",
    "            x.append(float(line.split(',')[0]))\n",
    "            x.append(float(line.split(',')[2]))\n",
    "            y.append(float(line.split(',')[1]))\n",
    "            y.append(float(line.split(',')[3]))\n",
    "#             plt.plot(x,y,'b',linewidth = 0.8)\n",
    "#         plt.axis('off') #hide the axis\n",
    "        plt.gca().add_patch(patches.Rectangle((0, 0),xlen,ylen,fill=False)) #draw the panel\n",
    "        plt.gca().add_patch(patches.Circle((finger_size/2.0, finger_size/2.0),finger_size/2.0,fill=False)) #draw the finger\n",
    "        plt.axis('off') #hide the axis\n",
    "        plt.gca().set_aspect('equal', adjustable='box')\n",
    "        plt.savefig(str(idx)+'.png',dpi = 1000)\n",
    "        plt.show()\n",
    "        plt.close()\n",
    "\n",
    "    \n",
    "    \n",
    "        "
   ]
  },
  {
   "cell_type": "code",
   "execution_count": 146,
   "metadata": {
    "collapsed": false
   },
   "outputs": [
    {
     "data": {
      "text/plain": [
       "0"
      ]
     },
     "execution_count": 146,
     "metadata": {},
     "output_type": "execute_result"
    }
   ],
   "source": [
    "idx"
   ]
  },
  {
   "cell_type": "code",
   "execution_count": null,
   "metadata": {
    "collapsed": true
   },
   "outputs": [],
   "source": []
  }
 ],
 "metadata": {
  "kernelspec": {
   "display_name": "Python 2",
   "language": "python",
   "name": "python2"
  },
  "language_info": {
   "codemirror_mode": {
    "name": "ipython",
    "version": 2
   },
   "file_extension": ".py",
   "mimetype": "text/x-python",
   "name": "python",
   "nbconvert_exporter": "python",
   "pygments_lexer": "ipython2",
   "version": "2.7.13"
  }
 },
 "nbformat": 4,
 "nbformat_minor": 2
}
